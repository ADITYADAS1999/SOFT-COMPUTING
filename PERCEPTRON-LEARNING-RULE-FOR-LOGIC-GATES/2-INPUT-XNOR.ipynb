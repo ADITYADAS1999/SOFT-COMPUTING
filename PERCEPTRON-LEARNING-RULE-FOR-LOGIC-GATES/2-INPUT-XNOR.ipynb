{
  "nbformat": 4,
  "nbformat_minor": 0,
  "metadata": {
    "colab": {
      "provenance": []
    },
    "kernelspec": {
      "name": "python3",
      "display_name": "Python 3"
    },
    "language_info": {
      "name": "python"
    }
  },
  "cells": [
    {
      "cell_type": "code",
      "execution_count": 17,
      "metadata": {
        "colab": {
          "base_uri": "https://localhost:8080/"
        },
        "id": "2oPbW_ngH5qZ",
        "outputId": "e1ef0824-c744-428c-ebc9-e4ec6f5b6c7a"
      },
      "outputs": [
        {
          "output_type": "stream",
          "name": "stdout",
          "text": [
            "Epoch 1:\n",
            "\n",
            "Input (X0 X1 X2)| NET_INPUT(Yin)| NET_OUTPUT(Yout)| TARGET(T)\t| WEIGHT_ADJUSTMENT(ΔW0 ΔW1 ΔW2)\t| WEIGHTS(W0 W1 W2)\n",
            "---------------------------------------------------------------------------------------------------------\n",
            "1 -1 -1\t\t| -0.43\t\t| -1\t\t| 1\t\t| 0.20 -0.20 -0.20\t\t\t| 0.77 0.73 -0.13\n",
            "1 -1 1\t\t| -0.09\t\t| -1\t\t| -1\t\t| 0.00 -0.00 0.00\t\t\t| 0.77 0.73 -0.13\n",
            "1 1 -1\t\t| 1.62\t\t| 1\t\t| -1\t\t| -0.20 -0.20 0.20\t\t\t| 0.57 0.53 0.07\n",
            "1 1 1\t\t| 1.16\t\t| 1\t\t| 1\t\t| 0.00 0.00 0.00\t\t\t| 0.57 0.53 0.07\n",
            "\n",
            "\n",
            "Epoch 2:\n",
            "\n",
            "Input (X0 X1 X2)| NET_INPUT(Yin)| NET_OUTPUT(Yout)| TARGET(T)\t| WEIGHT_ADJUSTMENT(ΔW0 ΔW1 ΔW2)\t| WEIGHTS(W0 W1 W2)\n",
            "---------------------------------------------------------------------------------------------------------\n",
            "1 -1 -1\t\t| -0.03\t\t| -1\t\t| 1\t\t| 0.20 -0.20 -0.20\t\t\t| 0.77 0.33 -0.13\n",
            "1 -1 1\t\t| 0.31\t\t| 1\t\t| -1\t\t| -0.20 0.20 -0.20\t\t\t| 0.57 0.53 -0.33\n",
            "1 1 -1\t\t| 1.42\t\t| 1\t\t| -1\t\t| -0.20 -0.20 0.20\t\t\t| 0.37 0.33 -0.13\n",
            "1 1 1\t\t| 0.56\t\t| 1\t\t| 1\t\t| 0.00 0.00 0.00\t\t\t| 0.37 0.33 -0.13\n",
            "\n",
            "\n",
            "Epoch 3:\n",
            "\n",
            "Input (X0 X1 X2)| NET_INPUT(Yin)| NET_OUTPUT(Yout)| TARGET(T)\t| WEIGHT_ADJUSTMENT(ΔW0 ΔW1 ΔW2)\t| WEIGHTS(W0 W1 W2)\n",
            "---------------------------------------------------------------------------------------------------------\n",
            "1 -1 -1\t\t| 0.17\t\t| 1\t\t| 1\t\t| 0.00 -0.00 -0.00\t\t\t| 0.37 0.33 -0.13\n",
            "1 -1 1\t\t| -0.09\t\t| -1\t\t| -1\t\t| 0.00 -0.00 0.00\t\t\t| 0.37 0.33 -0.13\n",
            "1 1 -1\t\t| 0.82\t\t| 1\t\t| -1\t\t| -0.20 -0.20 0.20\t\t\t| 0.17 0.13 0.07\n",
            "1 1 1\t\t| 0.36\t\t| 1\t\t| 1\t\t| 0.00 0.00 0.00\t\t\t| 0.17 0.13 0.07\n",
            "\n",
            "\n",
            "Epoch 4:\n",
            "\n",
            "Input (X0 X1 X2)| NET_INPUT(Yin)| NET_OUTPUT(Yout)| TARGET(T)\t| WEIGHT_ADJUSTMENT(ΔW0 ΔW1 ΔW2)\t| WEIGHTS(W0 W1 W2)\n",
            "---------------------------------------------------------------------------------------------------------\n",
            "1 -1 -1\t\t| -0.03\t\t| -1\t\t| 1\t\t| 0.20 -0.20 -0.20\t\t\t| 0.37 -0.07 -0.13\n",
            "1 -1 1\t\t| 0.31\t\t| 1\t\t| -1\t\t| -0.20 0.20 -0.20\t\t\t| 0.17 0.13 -0.33\n",
            "1 1 -1\t\t| 0.62\t\t| 1\t\t| -1\t\t| -0.20 -0.20 0.20\t\t\t| -0.03 -0.07 -0.13\n",
            "1 1 1\t\t| -0.24\t\t| -1\t\t| 1\t\t| 0.20 0.20 0.20\t\t\t| 0.17 0.13 0.07\n",
            "\n",
            "\n",
            "Testing the XNOR gate:\n",
            "Input: [-1 -1] Predicted Output: -1\n",
            "Input: [-1  1] Predicted Output: 1\n",
            "Input: [ 1 -1] Predicted Output: 1\n",
            "Input: [1 1] Predicted Output: 1\n"
          ]
        }
      ],
      "source": [
        "import numpy as np\n",
        "\n",
        "# Define the inputs (including bias)\n",
        "X = np.array([\n",
        "    [1, -1, -1],  # [bias, x1, x2]\n",
        "    [1, -1, 1],\n",
        "    [1, 1, -1],\n",
        "    [1, 1, 1]\n",
        "])\n",
        "\n",
        "# Define the target output for XNOR gate\n",
        "Y = np.array([1, -1, -1, 1])\n",
        "\n",
        "# Initialize weights and bias\n",
        "weights = np.random.rand(3)  # weights for bias, x1, and x2\n",
        "\n",
        "# Set learning rate\n",
        "learning_rate = 0.1\n",
        "\n",
        "# Perceptron learning algorithm for XNOR gate\n",
        "epochs = 4\n",
        "for epoch in range(epochs):\n",
        "    # Print header for the table\n",
        "    print(f\"Epoch {epoch+1}:\\n\")\n",
        "    print(\"Input (X0 X1 X2)| NET_INPUT(Yin)| NET_OUTPUT(Yout)| TARGET(T)\\t| WEIGHT_ADJUSTMENT(ΔW0 ΔW1 ΔW2)\\t| WEIGHTS(W0 W1 W2)\")\n",
        "    print(\"-\" * 105)\n",
        "\n",
        "    for i in range(len(X)):\n",
        "        # Compute the weighted sum\n",
        "        weighted_sum = np.dot(X[i], weights)\n",
        "\n",
        "        # Activation function (step function)\n",
        "        if weighted_sum <= 0:\n",
        "            predicted_output = -1\n",
        "        else:\n",
        "            predicted_output = 1\n",
        "\n",
        "        # Update weights\n",
        "        delta_weights = learning_rate * (Y[i] - predicted_output) * X[i]\n",
        "        weights += delta_weights\n",
        "\n",
        "        # Print information for the current input\n",
        "        print(f\"{X[i][0]} {X[i][1]} {X[i][2]}\\t\\t| {weighted_sum:.2f}\\t\\t| {predicted_output}\\t\\t| {Y[i]}\\t\\t| {delta_weights[0]:.2f} {delta_weights[1]:.2f} {delta_weights[2]:.2f}\\t\\t\\t| {weights[0]:.2f} {weights[1]:.2f} {weights[2]:.2f}\")\n",
        "\n",
        "    print(\"\\n\")\n",
        "\n",
        "# Test the XNOR gate\n",
        "test_inputs = np.array([\n",
        "    [1, -1, -1],\n",
        "    [1, -1, 1],\n",
        "    [1, 1, -1],\n",
        "    [1, 1, 1]\n",
        "])\n",
        "\n",
        "print(\"Testing the XNOR gate:\")\n",
        "for test_input in test_inputs:\n",
        "    weighted_sum = np.dot(test_input, weights)\n",
        "    if weighted_sum <= 0:\n",
        "        predicted_output = -1\n",
        "    else:\n",
        "        predicted_output = 1\n",
        "    print(f\"Input: {test_input[1:]} Predicted Output: {predicted_output}\")\n"
      ]
    },
    {
      "cell_type": "code",
      "source": [],
      "metadata": {
        "id": "oXduJEJNJlTn"
      },
      "execution_count": null,
      "outputs": []
    },
    {
      "cell_type": "code",
      "source": [],
      "metadata": {
        "id": "HYptK__dIPcI"
      },
      "execution_count": null,
      "outputs": []
    }
  ]
}