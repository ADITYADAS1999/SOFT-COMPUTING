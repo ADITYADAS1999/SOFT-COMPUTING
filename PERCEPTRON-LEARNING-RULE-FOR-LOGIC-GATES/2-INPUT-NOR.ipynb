{
  "nbformat": 4,
  "nbformat_minor": 0,
  "metadata": {
    "colab": {
      "provenance": []
    },
    "kernelspec": {
      "name": "python3",
      "display_name": "Python 3"
    },
    "language_info": {
      "name": "python"
    }
  },
  "cells": [
    {
      "cell_type": "code",
      "execution_count": 1,
      "metadata": {
        "colab": {
          "base_uri": "https://localhost:8080/"
        },
        "id": "2oPbW_ngH5qZ",
        "outputId": "e34dae43-ee76-44f0-abfa-c43248ebdd2d"
      },
      "outputs": [
        {
          "output_type": "stream",
          "name": "stdout",
          "text": [
            "Epoch 1:\n",
            "\n",
            "Input (X0 X1 X2) | NET_INPUT(Yin) | NET_OUTPUT(Yout) | TARGET(T) | WEIGHT_ADJUSTMENT(ΔW0 ΔW1 ΔW2) | WEIGHTS(W0 W1 W2)\n",
            "----------------------------------------------------------------------------------------------------------------\n",
            "1 -1 -1 \t| 0.21 \t| 1 \t\t| 1 \t| 0.00 -0.00 -0.00 \t\t\t| 0.81 0.37 0.23\n",
            "1 -1 1 \t| 0.66 \t| 1 \t\t| -1 \t| -0.20 0.20 -0.20 \t\t\t| 0.61 0.57 0.03\n",
            "1 1 -1 \t| 1.15 \t| 1 \t\t| -1 \t| -0.20 -0.20 0.20 \t\t\t| 0.41 0.37 0.23\n",
            "1 1 1 \t| 1.01 \t| 1 \t\t| -1 \t| -0.20 -0.20 -0.20 \t\t\t| 0.21 0.17 0.03\n",
            "\n",
            "\n",
            "Epoch 2:\n",
            "\n",
            "Input (X0 X1 X2) | NET_INPUT(Yin) | NET_OUTPUT(Yout) | TARGET(T) | WEIGHT_ADJUSTMENT(ΔW0 ΔW1 ΔW2) | WEIGHTS(W0 W1 W2)\n",
            "----------------------------------------------------------------------------------------------------------------\n",
            "1 -1 -1 \t| 0.01 \t| 1 \t\t| 1 \t| 0.00 -0.00 -0.00 \t\t\t| 0.21 0.17 0.03\n",
            "1 -1 1 \t| 0.06 \t| 1 \t\t| -1 \t| -0.20 0.20 -0.20 \t\t\t| 0.01 0.37 -0.17\n",
            "1 1 -1 \t| 0.55 \t| 1 \t\t| -1 \t| -0.20 -0.20 0.20 \t\t\t| -0.19 0.17 0.03\n",
            "1 1 1 \t| 0.01 \t| 1 \t\t| -1 \t| -0.20 -0.20 -0.20 \t\t\t| -0.39 -0.03 -0.17\n",
            "\n",
            "\n",
            "Epoch 3:\n",
            "\n",
            "Input (X0 X1 X2) | NET_INPUT(Yin) | NET_OUTPUT(Yout) | TARGET(T) | WEIGHT_ADJUSTMENT(ΔW0 ΔW1 ΔW2) | WEIGHTS(W0 W1 W2)\n",
            "----------------------------------------------------------------------------------------------------------------\n",
            "1 -1 -1 \t| -0.19 \t| -1 \t\t| 1 \t| 0.20 -0.20 -0.20 \t\t\t| -0.19 -0.23 -0.37\n",
            "1 -1 1 \t| -0.34 \t| -1 \t\t| -1 \t| 0.00 -0.00 0.00 \t\t\t| -0.19 -0.23 -0.37\n",
            "1 1 -1 \t| -0.05 \t| -1 \t\t| -1 \t| 0.00 0.00 -0.00 \t\t\t| -0.19 -0.23 -0.37\n",
            "1 1 1 \t| -0.79 \t| -1 \t\t| -1 \t| 0.00 0.00 0.00 \t\t\t| -0.19 -0.23 -0.37\n",
            "\n",
            "\n",
            "Epoch 4:\n",
            "\n",
            "Input (X0 X1 X2) | NET_INPUT(Yin) | NET_OUTPUT(Yout) | TARGET(T) | WEIGHT_ADJUSTMENT(ΔW0 ΔW1 ΔW2) | WEIGHTS(W0 W1 W2)\n",
            "----------------------------------------------------------------------------------------------------------------\n",
            "1 -1 -1 \t| 0.41 \t| 1 \t\t| 1 \t| 0.00 -0.00 -0.00 \t\t\t| -0.19 -0.23 -0.37\n",
            "1 -1 1 \t| -0.34 \t| -1 \t\t| -1 \t| 0.00 -0.00 0.00 \t\t\t| -0.19 -0.23 -0.37\n",
            "1 1 -1 \t| -0.05 \t| -1 \t\t| -1 \t| 0.00 0.00 -0.00 \t\t\t| -0.19 -0.23 -0.37\n",
            "1 1 1 \t| -0.79 \t| -1 \t\t| -1 \t| 0.00 0.00 0.00 \t\t\t| -0.19 -0.23 -0.37\n",
            "\n",
            "\n",
            "Testing the NOR gate:\n",
            "Input: [-1 -1] Predicted Output: 1\n",
            "Input: [-1  1] Predicted Output: -1\n",
            "Input: [ 1 -1] Predicted Output: -1\n",
            "Input: [1 1] Predicted Output: -1\n"
          ]
        }
      ],
      "source": [
        "import numpy as np\n",
        "\n",
        "# Define the inputs (including bias)\n",
        "X = np.array([\n",
        "    [1, -1, -1],  # [bias, x1, x2]\n",
        "    [1, -1, 1],\n",
        "    [1, 1, -1],\n",
        "    [1, 1, 1]\n",
        "])\n",
        "\n",
        "# Define the target output for NOR gate\n",
        "Y = np.array([1, -1, -1, -1])  # Output is 1 only when both inputs are -1\n",
        "\n",
        "# Initialize weights and bias\n",
        "weights = np.random.rand(3)  # weights for bias, x1, and x2\n",
        "\n",
        "# Set learning rate\n",
        "learning_rate = 0.1\n",
        "\n",
        "# Perceptron learning algorithm\n",
        "epochs = 4\n",
        "for epoch in range(epochs):\n",
        "    # Print header for the table\n",
        "    print(f\"Epoch {epoch+1}:\\n\")\n",
        "    print(\"Input (X0 X1 X2) | NET_INPUT(Yin) | NET_OUTPUT(Yout) | TARGET(T) | WEIGHT_ADJUSTMENT(ΔW0 ΔW1 ΔW2) | WEIGHTS(W0 W1 W2)\")\n",
        "    print(\"-\" * 112)\n",
        "\n",
        "    for i in range(len(X)):\n",
        "        # Compute the weighted sum\n",
        "        weighted_sum = np.dot(X[i], weights)\n",
        "\n",
        "        # Activation function (step function)\n",
        "        if weighted_sum <= 0:\n",
        "            predicted_output = -1\n",
        "        else:\n",
        "            predicted_output = 1\n",
        "\n",
        "        # Update weights\n",
        "        delta_weights = learning_rate * (Y[i] - predicted_output) * X[i]\n",
        "        weights += delta_weights\n",
        "\n",
        "        # Print information for the current input\n",
        "        print(f\"{X[i][0]} {X[i][1]} {X[i][2]} \\t| {weighted_sum:.2f} \\t| {predicted_output} \\t\\t| {Y[i]} \\t| {delta_weights[0]:.2f} {delta_weights[1]:.2f} {delta_weights[2]:.2f} \\t\\t\\t| {weights[0]:.2f} {weights[1]:.2f} {weights[2]:.2f}\")\n",
        "\n",
        "    print(\"\\n\")\n",
        "\n",
        "# Test the NOR gate\n",
        "test_inputs = np.array([\n",
        "    [1, -1, -1],\n",
        "    [1, -1, 1],\n",
        "    [1, 1, -1],\n",
        "    [1, 1, 1]\n",
        "])\n",
        "\n",
        "print(\"Testing the NOR gate:\")\n",
        "for test_input in test_inputs:\n",
        "    weighted_sum = np.dot(test_input, weights)\n",
        "    if weighted_sum <= 0:\n",
        "        predicted_output = -1\n",
        "    else:\n",
        "        predicted_output = 1\n",
        "    print(f\"Input: {test_input[1:]} Predicted Output: {predicted_output}\")\n"
      ]
    },
    {
      "cell_type": "code",
      "source": [],
      "metadata": {
        "id": "HYptK__dIPcI"
      },
      "execution_count": null,
      "outputs": []
    }
  ]
}