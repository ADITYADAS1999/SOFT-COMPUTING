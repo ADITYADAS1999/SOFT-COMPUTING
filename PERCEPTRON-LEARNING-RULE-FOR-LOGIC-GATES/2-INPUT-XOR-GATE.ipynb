{
  "nbformat": 4,
  "nbformat_minor": 0,
  "metadata": {
    "colab": {
      "provenance": []
    },
    "kernelspec": {
      "name": "python3",
      "display_name": "Python 3"
    },
    "language_info": {
      "name": "python"
    }
  },
  "cells": [
    {
      "cell_type": "code",
      "execution_count": 1,
      "metadata": {
        "id": "__bRvLDSTTw2",
        "outputId": "110a932a-d127-42e4-fa2e-0f08993fdf74",
        "colab": {
          "base_uri": "https://localhost:8080/"
        }
      },
      "outputs": [
        {
          "output_type": "stream",
          "name": "stdout",
          "text": [
            "Epoch 1:\n",
            "\n",
            "Input (X0 X1 X2)| NET_INPUT(Yin)| NET_OUTPUT(Yout)| TARGET(T)\t| WEIGHT_ADJUSTMENT(ΔW0 ΔW1 ΔW2)\t| WEIGHTS(W0 W1 W2)\n",
            "---------------------------------------------------------------------------------------------------------\n",
            "1 0 0\t\t| 0.52\t\t| 1\t\t| 0\t\t| -0.10 -0.00 -0.00\t\t\t| 0.42 0.71 0.31\n",
            "1 0 1\t\t| 0.73\t\t| 1\t\t| 1\t\t| 0.00 0.00 0.00\t\t\t| 0.42 0.71 0.31\n",
            "1 1 0\t\t| 1.12\t\t| 1\t\t| 1\t\t| 0.00 0.00 0.00\t\t\t| 0.42 0.71 0.31\n",
            "1 1 1\t\t| 1.43\t\t| 1\t\t| 0\t\t| -0.10 -0.10 -0.10\t\t\t| 0.32 0.61 0.21\n",
            "1 0 0\t\t| 0.32\t\t| 1\t\t| 0\t\t| -0.10 -0.00 -0.00\t\t\t| 0.22 0.61 0.21\n",
            "1 0 1\t\t| 0.43\t\t| 1\t\t| 1\t\t| 0.00 0.00 0.00\t\t\t| 0.22 0.61 0.21\n",
            "1 1 0\t\t| 0.82\t\t| 1\t\t| 1\t\t| 0.00 0.00 0.00\t\t\t| 0.22 0.61 0.21\n",
            "1 1 1\t\t| 1.03\t\t| 1\t\t| 0\t\t| -0.10 -0.10 -0.10\t\t\t| 0.12 0.51 0.11\n",
            "1 0 0\t\t| 0.12\t\t| 1\t\t| 0\t\t| -0.10 -0.00 -0.00\t\t\t| 0.02 0.51 0.11\n",
            "1 0 1\t\t| 0.13\t\t| 1\t\t| 1\t\t| 0.00 0.00 0.00\t\t\t| 0.02 0.51 0.11\n",
            "1 1 0\t\t| 0.52\t\t| 1\t\t| 1\t\t| 0.00 0.00 0.00\t\t\t| 0.02 0.51 0.11\n",
            "1 1 1\t\t| 0.63\t\t| 1\t\t| 0\t\t| -0.10 -0.10 -0.10\t\t\t| -0.08 0.41 0.01\n",
            "1 0 0\t\t| -0.08\t\t| 0\t\t| 0\t\t| 0.00 0.00 0.00\t\t\t| -0.08 0.41 0.01\n",
            "1 0 1\t\t| -0.07\t\t| 0\t\t| 1\t\t| 0.10 0.00 0.10\t\t\t| 0.02 0.41 0.11\n",
            "1 1 0\t\t| 0.42\t\t| 1\t\t| 1\t\t| 0.00 0.00 0.00\t\t\t| 0.02 0.41 0.11\n",
            "1 1 1\t\t| 0.53\t\t| 1\t\t| 0\t\t| -0.10 -0.10 -0.10\t\t\t| -0.08 0.31 0.01\n",
            "\n",
            "Testing the XOR gate:\n",
            "Input: [0 0] Predicted Output: 0\n",
            "Input: [0 1] Predicted Output: 0\n",
            "Input: [1 0] Predicted Output: 1\n",
            "Input: [1 1] Predicted Output: 1\n"
          ]
        }
      ],
      "source": [
        "import numpy as np\n",
        "\n",
        "# Define the inputs (including bias)\n",
        "X = np.array([\n",
        "    [1, 0, 0],  # [bias, x1, x2]\n",
        "    [1, 0, 1],\n",
        "    [1, 1, 0],\n",
        "    [1, 1, 1]\n",
        "])\n",
        "\n",
        "# Define the target output for XOR gate\n",
        "Y = np.array([0, 1, 1, 0])\n",
        "\n",
        "# Initialize weights and bias\n",
        "weights = np.random.rand(3)  # weights for bias, x1, and x2\n",
        "\n",
        "# Set learning rate\n",
        "learning_rate = 0.1\n",
        "\n",
        "# Perceptron learning algorithm\n",
        "epochs = 4\n",
        "for epoch in range(epochs):\n",
        "    # Print header for the table\n",
        "    if epoch == 0:\n",
        "        print(f\"Epoch {epoch + 1}:\\n\")\n",
        "        print(\"Input (X0 X1 X2)| NET_INPUT(Yin)| NET_OUTPUT(Yout)| TARGET(T)\\t| WEIGHT_ADJUSTMENT(ΔW0 ΔW1 ΔW2)\\t| WEIGHTS(W0 W1 W2)\")\n",
        "        print(\"-\" * 105)\n",
        "\n",
        "    for i in range(len(X)):\n",
        "        # Compute the weighted sum\n",
        "        weighted_sum = np.dot(X[i], weights)\n",
        "\n",
        "        # Activation function (step function)\n",
        "        if weighted_sum <= 0:\n",
        "            predicted_output = 0\n",
        "        else:\n",
        "            predicted_output = 1\n",
        "\n",
        "        # Update weights\n",
        "        delta_weights = learning_rate * (Y[i] - predicted_output) * X[i]\n",
        "        weights += delta_weights\n",
        "\n",
        "        # Print information for the current input\n",
        "        print(f\"{X[i][0]} {X[i][1]} {X[i][2]}\\t\\t| {weighted_sum:.2f}\\t\\t| {predicted_output}\\t\\t| {Y[i]}\\t\\t| {delta_weights[0]:.2f} {delta_weights[1]:.2f} {delta_weights[2]:.2f}\\t\\t\\t| {weights[0]:.2f} {weights[1]:.2f} {weights[2]:.2f}\")\n",
        "\n",
        "    if np.array_equal(predicted_output, Y):\n",
        "        print(f\"\\nConvergence reached at epoch {epoch + 1}.\")\n",
        "        break\n",
        "\n",
        "# Test the XOR gate\n",
        "test_inputs = np.array([\n",
        "    [1, 0, 0],\n",
        "    [1, 0, 1],\n",
        "    [1, 1, 0],\n",
        "    [1, 1, 1]\n",
        "])\n",
        "\n",
        "print(\"\\nTesting the XOR gate:\")\n",
        "for test_input in test_inputs:\n",
        "    weighted_sum = np.dot(test_input, weights)\n",
        "    if weighted_sum <= 0:\n",
        "        predicted_output = 0\n",
        "    else:\n",
        "        predicted_output = 1\n",
        "    print(f\"Input: {test_input[1:]} Predicted Output: {predicted_output}\")\n"
      ]
    }
  ]
}